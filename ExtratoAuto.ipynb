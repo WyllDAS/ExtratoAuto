{
 "cells": [
  {
   "cell_type": "markdown",
   "id": "6b9e1e7e-8b6b-4cdb-a7df-f7a9ebeefbb5",
   "metadata": {},
   "source": [
    "# Script de Automação para extrato"
   ]
  },
  {
   "cell_type": "markdown",
   "id": "70bf67a5-f57d-4091-b70f-5eee507c1774",
   "metadata": {},
   "source": [
    "*Passo a passo para utilização do programa*\n",
    "1. **Iniciar o programa** selecione a célula do código e clique no botão *start* na parte superior\n",
    "2. **Chave de acesso** Entre na sua conta Asaas, na aba de *integrações*, gere uma chave de API, copie e cole aqui quando for solicitado\n",
    "3. **Descrição do Acesso** Digite qual é o acesso em que está sendo gerado o extrato\n",
    "4. **Defina o período** Digite a data de início e fim *(formato:ANO/MES/DIA)*\n",
    "5. **Verificar arquivo salvo** Um arquivo em excel será salvo na mesma pasta onde o programa se encontra.\n",
    "   "
   ]
  },
  {
   "cell_type": "code",
   "execution_count": 7,
   "id": "a9f5a007-2a64-4c3b-b7b4-8a32d9f9ec0f",
   "metadata": {},
   "outputs": [
    {
     "name": "stdin",
     "output_type": "stream",
     "text": [
      "Digite aqui a sua chave de acesso:  $aact_YTU5YTE0M2M2N2I4MTliNzk0YTI5N2U5MzdjNWZmNDQ6OjAwMDAwMDAwMDAwMDA1MDA1MDg6OiRhYWNoX2UwODE1YWYzLTA3N2MtNDI0NC04MjlkLTBhNjFmNTRlODdlZQ==\n",
      "De qual acesso você quer tirar o extrato?:  acesso_08\n",
      "Digite a data de início (formato: YYYY-MM-DD):  2024-10-01\n",
      "Digite a data de fim (formato: YYYY-MM-DD):  2024-10-24\n"
     ]
    },
    {
     "name": "stdout",
     "output_type": "stream",
     "text": [
      "Arquivo Excel 'acesso_08.xlsx' criado com sucesso!\n"
     ]
    }
   ],
   "source": [
    "import requests\n",
    "import pandas as pd\n",
    "\n",
    "\n",
    "chave_acesso = input('Digite aqui a sua chave de acesso: ')\n",
    "acesso_banco = input('De qual acesso você quer tirar o extrato?: ')\n",
    "# Solicita ao usuário as datas de início e fim\n",
    "data_inicio = input(\"Digite a data de início (formato: YYYY-MM-DD): \")\n",
    "data_fim = input(\"Digite a data de fim (formato: YYYY-MM-DD): \")\n",
    "\n",
    "url = \"https://www.asaas.com/api/v3/financialTransactions\"\n",
    "headers = {\n",
    "    \"accept\": \"application/json\",\n",
    "    \"access_token\": chave_acesso  # Substitua pelo seu token\n",
    "}\n",
    "\n",
    "all_transactions = []  # Lista para armazenar todas as transações\n",
    "limit = 100  # Número máximo de resultados por solicitação\n",
    "offset = 0  # Inicializa o offset\n",
    "\n",
    "while True:\n",
    "    params = {\n",
    "        \"status\": \"PAYMENT_RECEIVED\",\n",
    "        \"startDate\": data_inicio,\n",
    "        \"endDate\": data_fim,\n",
    "        \"limit\": limit,\n",
    "        \"offset\": offset  # Usar o offset para paginação\n",
    "    }\n",
    "\n",
    "    response = requests.get(url, headers=headers, params=params)\n",
    "\n",
    "    if response.status_code == 200:\n",
    "        data = response.json()\n",
    "        \n",
    "        if 'data' in data and data['data']:\n",
    "            all_transactions.extend(data['data'])  # Adiciona as transações encontradas à lista\n",
    "            offset += limit  # Atualiza o offset para a próxima página\n",
    "        else:\n",
    "            break  # Sai do loop se não houver mais transações\n",
    "    else:\n",
    "        print(f\"Erro: {response.status_code} - {response.text}\")\n",
    "        break  # Sai do loop em caso de erro\n",
    "\n",
    "# Cria um DataFrame a partir de todas as transações\n",
    "df = pd.DataFrame(all_transactions)\n",
    "\n",
    "# Salva o DataFrame em um arquivo Excel\n",
    "df.to_excel(f'EXTRATO - {acesso_banco}.xlsx', index=False)\n",
    "print(f\"Arquivo Excel '{acesso_banco}.xlsx' criado com sucesso!\")\n"
   ]
  },
  {
   "cell_type": "code",
   "execution_count": null,
   "id": "a71de4f9-0e50-4865-ab61-e1f323abfd89",
   "metadata": {},
   "outputs": [],
   "source": [
    "# $aact_YTU5YTE0M2M2N2I4MTliNzk0YTI5N2U5MzdjNWZmNDQ6OjAwMDAwMDAwMDAwMDAwODQ1MjQ6OiRhYWNoX2U3NTA3OGJiLTgwNDgtNDdlZS1iYmFhLWRmMjUyMDM3Yjk0OA=="
   ]
  }
 ],
 "metadata": {
  "kernelspec": {
   "display_name": "Python 3 (ipykernel)",
   "language": "python",
   "name": "python3"
  },
  "language_info": {
   "codemirror_mode": {
    "name": "ipython",
    "version": 3
   },
   "file_extension": ".py",
   "mimetype": "text/x-python",
   "name": "python",
   "nbconvert_exporter": "python",
   "pygments_lexer": "ipython3",
   "version": "3.12.4"
  }
 },
 "nbformat": 4,
 "nbformat_minor": 5
}
